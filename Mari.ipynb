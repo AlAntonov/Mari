{
  "nbformat": 4,
  "nbformat_minor": 0,
  "metadata": {
    "colab": {
      "provenance": [],
      "authorship_tag": "ABX9TyMQMN9MjmkHa1dbeuX1kisw",
      "include_colab_link": true
    },
    "kernelspec": {
      "name": "python3",
      "display_name": "Python 3"
    },
    "language_info": {
      "name": "python"
    },
    "accelerator": "GPU",
    "gpuClass": "standard"
  },
  "cells": [
    {
      "cell_type": "markdown",
      "metadata": {
        "id": "view-in-github",
        "colab_type": "text"
      },
      "source": [
        "<a href=\"https://colab.research.google.com/github/AlAntonov/Mari/blob/main/Mari.ipynb\" target=\"_parent\"><img src=\"https://colab.research.google.com/assets/colab-badge.svg\" alt=\"Open In Colab\"/></a>"
      ]
    },
    {
      "cell_type": "code",
      "execution_count": null,
      "metadata": {
        "id": "jgl-emZEeZNR"
      },
      "outputs": [],
      "source": [
        "pip install datasets"
      ]
    },
    {
      "cell_type": "code",
      "source": [
        "from datasets import load_dataset"
      ],
      "metadata": {
        "id": "Xv3yorrPetS5"
      },
      "execution_count": null,
      "outputs": []
    },
    {
      "cell_type": "code",
      "source": [
        "dataset = load_dataset(\"AigizK/mari-russian-parallel-corpora\")\n",
        "shf_dataset = dataset.shuffle(seed=42)\n",
        "split_dataset = shf_dataset['train'].train_test_split(test_size=0.01)"
      ],
      "metadata": {
        "id": "JTH1XUANflCG"
      },
      "execution_count": null,
      "outputs": []
    },
    {
      "cell_type": "code",
      "source": [
        "!mkdir '/content/data'\n",
        "!mkdir '/content/data/train'\n",
        "!mkdir '/content/data/dev'"
      ],
      "metadata": {
        "id": "uwYnhluzm8tr"
      },
      "execution_count": null,
      "outputs": []
    },
    {
      "cell_type": "code",
      "source": [
        "def writelines(list, filename):\n",
        "  with open(filename, 'w', encoding='utf-8') as file:\n",
        "    for item in list:\n",
        "      file.write('%s\\n' % item)\n",
        "\n",
        "mhr_train = [l['mhr'] for l in split_dataset['train']]\n",
        "rus_train = [l['rus'] for l in split_dataset['train']]\n",
        "mhr_dev = [l['mhr'] for l in split_dataset['test']]\n",
        "rus_dev = [l['rus'] for l in split_dataset['test']]\n",
        "\n",
        "writelines(mhr_train, '/content/data/train/train.mhr.txt')\n",
        "writelines(rus_train, '/content/data/train/train.rus.txt')\n",
        "writelines(mhr_dev, '/content/data/dev/dev.mhr.txt')\n",
        "writelines(rus_dev, '/content/data/dev/dev.rus.txt')"
      ],
      "metadata": {
        "id": "q9fnUh3pk6p3"
      },
      "execution_count": null,
      "outputs": []
    },
    {
      "cell_type": "code",
      "source": [
        "pip install sockeye"
      ],
      "metadata": {
        "id": "TmG_PFeen1Dr"
      },
      "execution_count": null,
      "outputs": []
    },
    {
      "cell_type": "code",
      "source": [
        "!git clone https://github.com/rsennrich/subword-nmt.git"
      ],
      "metadata": {
        "id": "34opguU7n_ns"
      },
      "execution_count": null,
      "outputs": []
    },
    {
      "cell_type": "code",
      "source": [
        "src = 'mhr'\n",
        "tgt = 'rus'\n",
        "name = '355K'"
      ],
      "metadata": {
        "id": "riIcyj-InRud"
      },
      "execution_count": null,
      "outputs": []
    },
    {
      "cell_type": "code",
      "source": [
        "!python subword-nmt/subword_nmt/learn_joint_bpe_and_vocab.py --input /content/data/train/train.{src}.txt /content/data/train/train.{tgt}.txt -s 10000 -o /content/data/bpe.codes --write-vocabulary /content/data/bpe.vocab.{src} /content/data/bpe.vocab.{tgt}"
      ],
      "metadata": {
        "id": "FCksyibwoFSo"
      },
      "execution_count": null,
      "outputs": []
    },
    {
      "cell_type": "code",
      "source": [
        "!python subword-nmt/subword_nmt/apply_bpe.py -c /content/data/bpe.codes --vocabulary /content/data/bpe.vocab.{src} --vocabulary-threshold 50 < /content/data/train/train.{src}.txt > /content/data/train/train.{src}.bpe\n",
        "!python subword-nmt/subword_nmt/apply_bpe.py -c /content/data/bpe.codes --vocabulary /content/data/bpe.vocab.{tgt} --vocabulary-threshold 50 < /content/data/train/train.{tgt}.txt > /content/data/train/train.{tgt}.bpe\n",
        "!python subword-nmt/subword_nmt/apply_bpe.py -c /content/data/bpe.codes --vocabulary /content/data/bpe.vocab.{src} --vocabulary-threshold 50 < /content/data/dev/dev.{src}.txt > /content/data/dev/dev.{src}.bpe\n",
        "!python subword-nmt/subword_nmt/apply_bpe.py -c /content/data/bpe.codes --vocabulary /content/data/bpe.vocab.{tgt} --vocabulary-threshold 50 < /content/data/dev/dev.{tgt}.txt > /content/data/dev/dev.{tgt}.bpe\n"
      ],
      "metadata": {
        "id": "BLM73RvDoOGY"
      },
      "execution_count": null,
      "outputs": []
    },
    {
      "cell_type": "code",
      "source": [
        "!python -m sockeye.prepare_data -s /content/data/train/train.{src}.bpe -t /content/data/train/train.{tgt}.bpe --shared-vocab -o /content/{src}_{tgt}_{name}_data"
      ],
      "metadata": {
        "id": "w1vplU0RoYYg"
      },
      "execution_count": null,
      "outputs": []
    },
    {
      "cell_type": "code",
      "source": [
        "!python -m sockeye.train -d /content/{src}_{tgt}_{name}_data -vs /content/data/dev/dev.{src}.bpe -vt /content/data/dev/dev.{tgt}.bpe --encoder transformer --decoder transformer --transformer-model-size 512 --transformer-feed-forward-num-hidden 2048 --transformer-dropout-prepost 0.1 --num-embed 512 --max-seq-len 100 --decode-and-evaluate 500 -o {src}_{tgt}_{name}_model --num-layers 6 --keep-last-params 3 --batch-size 1024 --optimized-metric bleu --max-num-checkpoint-not-improved 7"
      ],
      "metadata": {
        "id": "0uyGExMKoeo3"
      },
      "execution_count": null,
      "outputs": []
    }
  ]
}